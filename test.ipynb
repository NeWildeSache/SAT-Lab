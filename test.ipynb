{
 "cells": [
  {
   "cell_type": "code",
   "execution_count": 2,
   "metadata": {},
   "outputs": [
    {
     "name": "stdout",
     "output_type": "stream",
     "text": [
      "True\n"
     ]
    }
   ],
   "source": [
    "a = {\"x\": 6}\n",
    "print(\"x\" in a)"
   ]
  },
  {
   "cell_type": "code",
   "execution_count": 3,
   "metadata": {},
   "outputs": [
    {
     "name": "stdout",
     "output_type": "stream",
     "text": [
      "('z', 8)\n",
      "('y', 7)\n",
      "('x', 6)\n"
     ]
    }
   ],
   "source": [
    "from collections import OrderedDict\n",
    "a = OrderedDict()\n",
    "a[\"x\"] = 6\n",
    "a[\"y\"] = 7\n",
    "a[\"z\"] = 8\n",
    "print(a.popitem())\n",
    "print(a.popitem())\n",
    "print(a.popitem())"
   ]
  }
 ],
 "metadata": {
  "kernelspec": {
   "display_name": "sat",
   "language": "python",
   "name": "python3"
  },
  "language_info": {
   "codemirror_mode": {
    "name": "ipython",
    "version": 3
   },
   "file_extension": ".py",
   "mimetype": "text/x-python",
   "name": "python",
   "nbconvert_exporter": "python",
   "pygments_lexer": "ipython3",
   "version": "3.12.3"
  }
 },
 "nbformat": 4,
 "nbformat_minor": 2
}
